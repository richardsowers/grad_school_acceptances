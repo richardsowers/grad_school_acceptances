{
 "cells": [
  {
   "cell_type": "markdown",
   "metadata": {},
   "source": [
    "<img src=\"https://news.illinois.edu/files/6367/543635/116641.jpg\" alt=\"University of Illinois\" style=\"width: 250px;\"/>\n",
    "\n",
    "# Converter #\n",
    "By Richard Sowers\n",
    "* <r-sowers@illinois.edu>\n",
    "* <https://publish.illinois.edu/r-sowers/>\n",
    "\n",
    "Copyright 2020 University of Illinois Board of Trustees. All Rights Reserved."
   ]
  },
  {
   "cell_type": "markdown",
   "metadata": {},
   "source": [
    "### imports and graphics configurations ###"
   ]
  },
  {
   "cell_type": "code",
   "execution_count": 1,
   "metadata": {},
   "outputs": [],
   "source": [
    "import pandas"
   ]
  },
  {
   "cell_type": "markdown",
   "metadata": {},
   "source": [
    "### constants ###"
   ]
  },
  {
   "cell_type": "code",
   "execution_count": 2,
   "metadata": {},
   "outputs": [],
   "source": [
    "fname=\"acceptances_query_count\""
   ]
  },
  {
   "cell_type": "markdown",
   "metadata": {},
   "source": [
    "### code starts here###"
   ]
  },
  {
   "cell_type": "code",
   "execution_count": 26,
   "metadata": {},
   "outputs": [],
   "source": [
    "data_raw=pandas.read_excel(fname+\".xlsx\")\n",
    "data=data_raw.copy()"
   ]
  },
  {
   "cell_type": "code",
   "execution_count": 32,
   "metadata": {},
   "outputs": [],
   "source": [
    "d=[{\"text\":v[\"university\"],\"count\":v[\"count\"]} for _,v in data_raw.iterrows()]"
   ]
  },
  {
   "cell_type": "code",
   "execution_count": 33,
   "metadata": {},
   "outputs": [
    {
     "data": {
      "text/plain": [
       "[{'text': 'Berkeley', 'count': 10},\n",
       " {'text': 'Boston University', 'count': 5},\n",
       " {'text': 'Brandeis', 'count': 1},\n",
       " {'text': 'Brown', 'count': 6},\n",
       " {'text': 'Chicago', 'count': 7},\n",
       " {'text': 'Clemson', 'count': 1},\n",
       " {'text': 'CMU', 'count': 8},\n",
       " {'text': 'Colorodo Mines', 'count': 1},\n",
       " {'text': 'Columbia', 'count': 21},\n",
       " {'text': 'Cornell', 'count': 16},\n",
       " {'text': 'Cornell Tech', 'count': 3},\n",
       " {'text': 'Dartmouth', 'count': 2},\n",
       " {'text': 'Duke', 'count': 2},\n",
       " {'text': 'George Washington University', 'count': 1},\n",
       " {'text': 'Georgetown', 'count': 1},\n",
       " {'text': 'Georgia Tech', 'count': 7},\n",
       " {'text': 'Graduate Institute of Geneva', 'count': 1},\n",
       " {'text': 'GWU', 'count': 1},\n",
       " {'text': 'Harvard', 'count': 3},\n",
       " {'text': 'Icahn', 'count': 1},\n",
       " {'text': 'Johns Hopkins', 'count': 8},\n",
       " {'text': 'Lehigh', 'count': 1},\n",
       " {'text': 'Loyola University Chicago', 'count': 1},\n",
       " {'text': 'Maryland', 'count': 1},\n",
       " {'text': 'Michigan', 'count': 6},\n",
       " {'text': 'MIT', 'count': 1},\n",
       " {'text': 'Northeastern-Seattle', 'count': 1},\n",
       " {'text': 'Northwestern', 'count': 8},\n",
       " {'text': 'NYU', 'count': 13},\n",
       " {'text': 'Penn', 'count': 8},\n",
       " {'text': 'Portland', 'count': 1},\n",
       " {'text': 'Princeton', 'count': 1},\n",
       " {'text': 'Purdue', 'count': 1},\n",
       " {'text': 'Rice', 'count': 3},\n",
       " {'text': 'Rochester', 'count': 2},\n",
       " {'text': 'South Carolina', 'count': 1},\n",
       " {'text': 'Stanford', 'count': 1},\n",
       " {'text': 'Toronto', 'count': 3},\n",
       " {'text': 'UC Berkeley', 'count': 1},\n",
       " {'text': 'UC Davis', 'count': 1},\n",
       " {'text': 'UCI', 'count': 1},\n",
       " {'text': 'UCLA', 'count': 7},\n",
       " {'text': 'UCSD', 'count': 7},\n",
       " {'text': 'UIUC', 'count': 20},\n",
       " {'text': 'University of Virginia', 'count': 1},\n",
       " {'text': 'USC', 'count': 18},\n",
       " {'text': 'UT-Austin', 'count': 1},\n",
       " {'text': 'Vanderbilt', 'count': 1},\n",
       " {'text': 'Virginia', 'count': 1},\n",
       " {'text': 'Washington', 'count': 4},\n",
       " {'text': 'Wisconsin-Madison', 'count': 3},\n",
       " {'text': 'Worcester', 'count': 1},\n",
       " {'text': 'Yale', 'count': 6}]"
      ]
     },
     "execution_count": 33,
     "metadata": {},
     "output_type": "execute_result"
    }
   ],
   "source": [
    "d"
   ]
  }
 ],
 "metadata": {
  "kernelspec": {
   "display_name": "Python 3",
   "language": "python",
   "name": "python3"
  },
  "language_info": {
   "codemirror_mode": {
    "name": "ipython",
    "version": 3
   },
   "file_extension": ".py",
   "mimetype": "text/x-python",
   "name": "python",
   "nbconvert_exporter": "python",
   "pygments_lexer": "ipython3",
   "version": "3.7.3"
  }
 },
 "nbformat": 4,
 "nbformat_minor": 2
}

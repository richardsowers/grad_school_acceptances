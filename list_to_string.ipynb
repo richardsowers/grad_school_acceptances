{
 "cells": [
  {
   "cell_type": "markdown",
   "metadata": {},
   "source": [
    "# List to String\n",
    "by: Richard Sowers\n",
    "* <r-sowers@illinois.edu>\n",
    "* <https://publish.illinois.edu/r-sowers/>\n",
    "\n",
    "\n",
    "### Explanation \n",
    "This code makes data for https://github.com/richardsowers/grad_school_acceptances"
   ]
  },
  {
   "cell_type": "markdown",
   "metadata": {},
   "source": [
    "## imports"
   ]
  },
  {
   "cell_type": "code",
   "execution_count": 1,
   "metadata": {},
   "outputs": [],
   "source": [
    "import pandas"
   ]
  },
  {
   "cell_type": "markdown",
   "metadata": {},
   "source": [
    "## main"
   ]
  },
  {
   "cell_type": "code",
   "execution_count": 2,
   "metadata": {},
   "outputs": [],
   "source": [
    "fname=\"acceptances_query.xlsx\""
   ]
  },
  {
   "cell_type": "code",
   "execution_count": 3,
   "metadata": {},
   "outputs": [],
   "source": [
    "data=pandas.read_excel(fname)"
   ]
  },
  {
   "cell_type": "code",
   "execution_count": 4,
   "metadata": {},
   "outputs": [
    {
     "name": "stdout",
     "output_type": "stream",
     "text": [
      "['Berkeley', 'Berkeley', 'Berkeley', 'Berkeley', 'Berkeley', 'Berkeley', 'Berkeley', 'Berkeley', 'Berkeley', 'Berkeley', 'Berkeley', 'BostonUniversity', 'BostonUniversity', 'BostonUniversity', 'BostonUniversity', 'BostonUniversity', 'BostonUniversity', 'Brandeis', 'Brown', 'Brown', 'Brown', 'Brown', 'Brown', 'Brown', 'Chicago', 'Chicago', 'Chicago', 'Chicago', 'Chicago', 'Chicago', 'Chicago', 'Clemson', 'CMU', 'CMU', 'CMU', 'CMU', 'CMU', 'CMU', 'CMU', 'CMU', 'CMU', 'ColorodoSchoolofMines', 'Columbia', 'Columbia', 'Columbia', 'Columbia', 'Columbia', 'Columbia', 'Columbia', 'Columbia', 'Columbia', 'Columbia', 'Columbia', 'Columbia', 'Columbia', 'Columbia', 'Columbia', 'Columbia', 'Columbia', 'Columbia', 'Columbia', 'Columbia', 'Columbia', 'Columbia', 'Columbia', 'Columbia', 'Columbia', 'Cornell', 'Cornell', 'Cornell', 'Cornell', 'Cornell', 'Cornell', 'Cornell', 'Cornell', 'Cornell', 'Cornell', 'Cornell', 'Cornell', 'Cornell', 'Cornell', 'Cornell', 'Cornell', 'CornellTech', 'CornellTech', 'CornellTech', 'Dartmouth', 'Dartmouth', 'Duke', 'Duke', 'Duke', 'GeorgeWashingtonUniversity', 'Georgetown', 'GeorgiaTech', 'GeorgiaTech', 'GeorgiaTech', 'GeorgiaTech', 'GeorgiaTech', 'GeorgiaTech', 'GeorgiaTech', 'GeorgiaTech', 'GeorgiaTech', 'GraduateInstituteofGeneva', 'GWU', 'Harvard', 'Harvard', 'Harvard', 'Harvard', 'HongKongBaptistUniversity', 'Icahn', 'JohnsHopkins', 'JohnsHopkins', 'JohnsHopkins', 'JohnsHopkins', 'JohnsHopkins', 'JohnsHopkins', 'JohnsHopkins', 'JohnsHopkins', 'KAUST', 'KAUST', 'Lehigh', 'LoyolaUniversityChicago', 'Maryland', 'Michigan', 'Michigan', 'Michigan', 'Michigan', 'Michigan', 'Michigan', 'MIT', 'Northeastern-Seattle', 'Northwestern', 'Northwestern', 'Northwestern', 'Northwestern', 'Northwestern', 'Northwestern', 'Northwestern', 'Northwestern', 'Northwestern', 'Northwestern', 'Northwestern', 'NYU', 'NYU', 'NYU', 'NYU', 'NYU', 'NYU', 'NYU', 'NYU', 'NYU', 'NYU', 'NYU', 'NYU', 'NYU', 'Penn', 'Penn', 'Penn', 'Penn', 'Penn', 'Penn', 'Penn', 'Penn', 'Portland', 'Princeton', 'Purdue', 'Purdue', 'Rice', 'Rice', 'Rice', 'Rochester', 'Rochester', 'SingaporeManagementUniversity', 'SingaporeUniversityofTechnologyandDesign', 'SouthCarolina', 'Stanford', 'Stanford', 'StonyBrook', 'TexasA&M', 'Toronto', 'Toronto', 'Toronto', 'UCDavis', 'UCDavis', 'UCI', 'UCI', 'UCI', 'UCI', 'UCLA', 'UCLA', 'UCLA', 'UCLA', 'UCLA', 'UCLA', 'UCLA', 'UCLA', 'UCSD', 'UCSD', 'UCSD', 'UCSD', 'UCSD', 'UCSD', 'UCSD', 'UCSD', 'UIUC', 'UIUC', 'UIUC', 'UIUC', 'UIUC', 'UIUC', 'UIUC', 'UIUC', 'UIUC', 'UIUC', 'UIUC', 'UIUC', 'UIUC', 'UIUC', 'UIUC', 'UIUC', 'UIUC', 'UIUC', 'UIUC', 'UIUC', 'UIUC', 'UIUC', 'UIUC', 'UIUC', 'UIUC', 'UIUC', 'UIUC', 'UIUC', 'UIUC', 'UniversityofSouthCarolina', 'UniversityofVirginia', 'USC', 'USC', 'USC', 'USC', 'USC', 'USC', 'USC', 'USC', 'USC', 'USC', 'USC', 'USC', 'USC', 'USC', 'USC', 'USC', 'USC', 'USC', 'USC', 'UT-Austin', 'Vanderbilt', 'Virginia', 'VirginiaTech', 'Washington', 'Washington', 'Washington', 'Washington', 'Washington', 'Wisconsin-Madison', 'Wisconsin-Madison', 'Wisconsin-Madison', 'Worcester', 'Yale', 'Yale', 'Yale', 'Yale', 'Yale', 'Yale']\n"
     ]
    }
   ],
   "source": [
    "processed=[university.replace(\" \",\"\") for university in data[\"university\"]]\n",
    "print(processed)"
   ]
  },
  {
   "cell_type": "code",
   "execution_count": 5,
   "metadata": {},
   "outputs": [
    {
     "name": "stdout",
     "output_type": "stream",
     "text": [
      "Berkeley Berkeley Berkeley Berkeley Berkeley Berkeley Berkeley Berkeley Berkeley Berkeley Berkeley BostonUniversity BostonUniversity BostonUniversity BostonUniversity BostonUniversity BostonUniversity Brandeis Brown Brown Brown Brown Brown Brown Chicago Chicago Chicago Chicago Chicago Chicago Chicago Clemson CMU CMU CMU CMU CMU CMU CMU CMU CMU ColorodoSchoolofMines Columbia Columbia Columbia Columbia Columbia Columbia Columbia Columbia Columbia Columbia Columbia Columbia Columbia Columbia Columbia Columbia Columbia Columbia Columbia Columbia Columbia Columbia Columbia Columbia Columbia Cornell Cornell Cornell Cornell Cornell Cornell Cornell Cornell Cornell Cornell Cornell Cornell Cornell Cornell Cornell Cornell CornellTech CornellTech CornellTech Dartmouth Dartmouth Duke Duke Duke GeorgeWashingtonUniversity Georgetown GeorgiaTech GeorgiaTech GeorgiaTech GeorgiaTech GeorgiaTech GeorgiaTech GeorgiaTech GeorgiaTech GeorgiaTech GraduateInstituteofGeneva GWU Harvard Harvard Harvard Harvard HongKongBaptistUniversity Icahn JohnsHopkins JohnsHopkins JohnsHopkins JohnsHopkins JohnsHopkins JohnsHopkins JohnsHopkins JohnsHopkins KAUST KAUST Lehigh LoyolaUniversityChicago Maryland Michigan Michigan Michigan Michigan Michigan Michigan MIT Northeastern-Seattle Northwestern Northwestern Northwestern Northwestern Northwestern Northwestern Northwestern Northwestern Northwestern Northwestern Northwestern NYU NYU NYU NYU NYU NYU NYU NYU NYU NYU NYU NYU NYU Penn Penn Penn Penn Penn Penn Penn Penn Portland Princeton Purdue Purdue Rice Rice Rice Rochester Rochester SingaporeManagementUniversity SingaporeUniversityofTechnologyandDesign SouthCarolina Stanford Stanford StonyBrook TexasA&M Toronto Toronto Toronto UCDavis UCDavis UCI UCI UCI UCI UCLA UCLA UCLA UCLA UCLA UCLA UCLA UCLA UCSD UCSD UCSD UCSD UCSD UCSD UCSD UCSD UIUC UIUC UIUC UIUC UIUC UIUC UIUC UIUC UIUC UIUC UIUC UIUC UIUC UIUC UIUC UIUC UIUC UIUC UIUC UIUC UIUC UIUC UIUC UIUC UIUC UIUC UIUC UIUC UIUC UniversityofSouthCarolina UniversityofVirginia USC USC USC USC USC USC USC USC USC USC USC USC USC USC USC USC USC USC USC UT-Austin Vanderbilt Virginia VirginiaTech Washington Washington Washington Washington Washington Wisconsin-Madison Wisconsin-Madison Wisconsin-Madison Worcester Yale Yale Yale Yale Yale Yale\n"
     ]
    }
   ],
   "source": [
    "universities_string=\" \".join(processed)\n",
    "print(universities_string)"
   ]
  }
 ],
 "metadata": {
  "kernelspec": {
   "display_name": "Python 3 (ipykernel)",
   "language": "python",
   "name": "python3"
  },
  "language_info": {
   "codemirror_mode": {
    "name": "ipython",
    "version": 3
   },
   "file_extension": ".py",
   "mimetype": "text/x-python",
   "name": "python",
   "nbconvert_exporter": "python",
   "pygments_lexer": "ipython3",
   "version": "3.11.5"
  }
 },
 "nbformat": 4,
 "nbformat_minor": 2
}
